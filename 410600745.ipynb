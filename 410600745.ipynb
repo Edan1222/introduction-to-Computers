{
  "nbformat": 4,
  "nbformat_minor": 0,
  "metadata": {
    "colab": {
      "name": "410600745",
      "provenance": [],
      "collapsed_sections": [],
      "authorship_tag": "ABX9TyPhvr1fNVqW8iBdrUBtfaz2",
      "include_colab_link": true
    },
    "kernelspec": {
      "name": "python3",
      "display_name": "Python 3"
    },
    "language_info": {
      "name": "python"
    }
  },
  "cells": [
    {
      "cell_type": "markdown",
      "metadata": {
        "id": "view-in-github",
        "colab_type": "text"
      },
      "source": [
        "<a href=\"https://colab.research.google.com/github/Edan1222/introduction-to-Computers/blob/main/410600745.ipynb\" target=\"_parent\"><img src=\"https://colab.research.google.com/assets/colab-badge.svg\" alt=\"Open In Colab\"/></a>"
      ]
    },
    {
      "cell_type": "code",
      "execution_count": null,
      "metadata": {
        "colab": {
          "base_uri": "https://localhost:8080/"
        },
        "id": "-_gKKVHiqI4Q",
        "outputId": "ebe64cdb-6d46-46d7-a2d1-e889da53aee3"
      },
      "outputs": [
        {
          "output_type": "stream",
          "name": "stdout",
          "text": [
            "輸入密碼:55\n",
            "猜得太大囉!加油!\n",
            "請輸入密碼:44\n",
            "恭喜答對!\n",
            "猜得太大囉!加油!\n",
            "請輸入密碼:77\n",
            "恭喜答對!\n",
            "猜得太大囉!加油!\n",
            "請輸入密碼:12\n",
            "恭喜答對!\n"
          ]
        }
      ],
      "source": [
        "password=12\n",
        "enter=int(input(\"輸入密碼:\"))\n",
        "\n",
        "while enter !=password:\n",
        "  if enter < password:\n",
        "    print(\"猜得太小囉!請加油!\")\n",
        "  else:\n",
        "    print(\"猜得太大囉!加油!\")\n",
        "  enter=int(input(\"請輸入密碼:\"))\n",
        "  print(\"恭喜答對!\")"
      ]
    },
    {
      "cell_type": "code",
      "source": [
        ""
      ],
      "metadata": {
        "id": "FfgjD7mw6bWV"
      },
      "execution_count": null,
      "outputs": []
    },
    {
      "cell_type": "code",
      "source": [
        "ra = input(\"今天會下雨嗎?\")\n",
        "if(ra==\"Y\" or ra==\"y\"):\n",
        "  print(\"要記得帶傘喔!\")\n",
        "else:\n",
        "  print(\"不用帶傘喔\")"
      ],
      "metadata": {
        "colab": {
          "base_uri": "https://localhost:8080/"
        },
        "id": "meGbhWm6rr0C",
        "outputId": "7357fa29-a5c8-413a-b366-ec13a6abab90"
      },
      "execution_count": null,
      "outputs": [
        {
          "output_type": "stream",
          "name": "stdout",
          "text": [
            "今天會下雨嗎?n\n",
            "不用帶傘喔\n"
          ]
        }
      ]
    },
    {
      "cell_type": "code",
      "source": [
        "i=int(input(\"請輸入正整數:\"))\n",
        "if(i%2==0):\n",
        "    print(i,\"為偶數\")\n",
        "else:\n",
        "    print(i,\"為奇數\")"
      ],
      "metadata": {
        "colab": {
          "base_uri": "https://localhost:8080/"
        },
        "id": "yHVkeDl0sa7M",
        "outputId": "5ed658be-eaf9-4478-bc1a-ea29e1398972"
      },
      "execution_count": null,
      "outputs": [
        {
          "output_type": "stream",
          "name": "stdout",
          "text": [
            "請輸入正整數:88\n",
            "88 為偶數\n"
          ]
        }
      ]
    },
    {
      "cell_type": "code",
      "source": [
        "temp= float(input(\"請輸入你的體溫\"))\n",
        "if temp >= 37.5:\n",
        "  print(\"體溫過高!\")\n",
        "elif temp >= 37 and temp < 37.4:\n",
        "  print(\"體溫略高!\")\n",
        "elif temp >= 34 and temp <=36.9:\n",
        "  print(\"體溫正常!\")\n",
        "else:\n",
        "  print(\"體溫異常,請重新測量!\")"
      ],
      "metadata": {
        "colab": {
          "base_uri": "https://localhost:8080/"
        },
        "id": "emBlwZmm6cwG",
        "outputId": "43fba1fd-b3cf-4eb6-f822-85a35ce2b0e6"
      },
      "execution_count": null,
      "outputs": [
        {
          "output_type": "stream",
          "name": "stdout",
          "text": [
            "請輸入你的體溫36\n",
            "體溫正常!\n"
          ]
        }
      ]
    },
    {
      "cell_type": "code",
      "source": [
        "score = input(\"請輸入成績\")\n",
        "if (int(score)>=90):\n",
        "  print(\"A\")\n",
        "elif(int(score)>=80):\n",
        "  print(\"B\")\n",
        "elif(int(score)>=70):\n",
        "  print(\"C\")\n",
        "elif(int(score)>=60):\n",
        "  print(\"D\")\n",
        "else:\n",
        "  print(\"E\")"
      ],
      "metadata": {
        "colab": {
          "base_uri": "https://localhost:8080/"
        },
        "id": "brDzn_7Z-cq8",
        "outputId": "118aa660-b61c-4a1d-f2eb-2c821fe340b0"
      },
      "execution_count": null,
      "outputs": [
        {
          "output_type": "stream",
          "name": "stdout",
          "text": [
            "請輸入成績79\n",
            "C\n"
          ]
        }
      ]
    },
    {
      "cell_type": "code",
      "source": [
        "revenue=int(input(\"請輸入今年收入淨額:\"))\n",
        "if(revenue>=300000):\n",
        "  if(revenue>=2000000):\n",
        "    print(\"付稅金額:\",revenue*0.3,end=\"元\\n\")\n",
        "  elif(revenue>=1000000):\n",
        "    print(\"付稅金額:\",revenue*0.21,end=\"元\\n\")\n",
        "  elif(revenue>=600000):\n",
        "    print(\"付稅金額:\",revenue*0.13,end=\"元\\n\")\n",
        "  else:\n",
        "    print(\"付稅金額:\",revenue*0.06,end=\"元\\n\")\n",
        "else:\n",
        "  print(\"不用繳稅\")"
      ],
      "metadata": {
        "colab": {
          "base_uri": "https://localhost:8080/"
        },
        "id": "EfzHwe95AF__",
        "outputId": "b3d53e3e-0997-45d6-8e74-e375bd7f3e5e"
      },
      "execution_count": null,
      "outputs": [
        {
          "output_type": "stream",
          "name": "stdout",
          "text": [
            "請輸入今年收入淨額:455555\n",
            "付稅金額: 27333.3元\n"
          ]
        }
      ]
    },
    {
      "cell_type": "code",
      "source": [
        "a=int(input(\"請輸入月份:\"))\n",
        "if (a==3 or a==4 or a==5):\n",
        "  print(a,\"月是春天!\")\n",
        "elif(a==6 or a==7 or a==8):\n",
        "  print(a,\"月是夏天!\")\n",
        "elif(a==9 or a==10 or a==11):\n",
        "  print(a,\"月是秋天!\")\n",
        "elif(a==12 or a==1 or a==2):\n",
        "  print(a,\"月是冬天!\")\n",
        "else:\n",
        "  print(\"月分不再範圍內!\")"
      ],
      "metadata": {
        "colab": {
          "base_uri": "https://localhost:8080/"
        },
        "id": "pwCRDK_uE6tc",
        "outputId": "b072283e-34f9-48c8-de94-6de148b12e5c"
      },
      "execution_count": null,
      "outputs": [
        {
          "output_type": "stream",
          "name": "stdout",
          "text": [
            "請輸入月份:4\n",
            "4 月是春天!\n"
          ]
        }
      ]
    },
    {
      "cell_type": "code",
      "source": [
        "money=int(input(\"請輸入購物金額:\"))\n",
        "if(money>=10000):\n",
        "  if(money>=100000):\n",
        "    print(\"八折\",money*0.8,end=\"元\\n\")\n",
        "  elif(money>=50000):\n",
        "    print(\"八五折\",money*0.85,end=\"元\\n\")\n",
        "  elif(money>=30000):\n",
        "    print(\"九折\",money*0.9,end=\"元\\n\")\n",
        "  else:\n",
        "    print(\"九五折\",mpney*0.95,end=\"元\\n\")\n",
        "else:\n",
        "  print(\"沒打折\",mpney,end=\"元\\n\")"
      ],
      "metadata": {
        "colab": {
          "base_uri": "https://localhost:8080/"
        },
        "id": "YjqL4x5FB878",
        "outputId": "e14aff05-1be0-4d9f-c85c-755885c34179"
      },
      "execution_count": null,
      "outputs": [
        {
          "output_type": "stream",
          "name": "stdout",
          "text": [
            "請輸入購物金額:12222222\n",
            "八折 9777777.6元\n"
          ]
        }
      ]
    },
    {
      "cell_type": "code",
      "source": [
        "test=int(input('請輸入一個正整數:'))\n",
        "sum=0\n",
        "for n in range(test):\n",
        " sum=sum+n\n",
        "print(\"1到\",test,\"的整數和為\",sum)\n"
      ],
      "metadata": {
        "colab": {
          "base_uri": "https://localhost:8080/"
        },
        "id": "tR6HrUaYrF1Z",
        "outputId": "76c7b962-23b3-4bd1-c94c-ae3c98176a9e"
      },
      "execution_count": null,
      "outputs": [
        {
          "output_type": "stream",
          "name": "stdout",
          "text": [
            "請輸入一個正整數:45\n",
            "1到 45 的整數和為 990\n"
          ]
        }
      ]
    },
    {
      "cell_type": "code",
      "source": [
        ""
      ],
      "metadata": {
        "id": "_eOVJ0SZOHgA"
      },
      "execution_count": null,
      "outputs": []
    },
    {
      "cell_type": "code",
      "source": [
        "sum=0\n",
        "test=int(input(\"請輸入一個正整數:\"))\n",
        "for n in  range(1,test+1):\n",
        "  sum=sum+n\n",
        "  print('一到',test,\"的整數和為\",sum)\n"
      ],
      "metadata": {
        "id": "4bB_gbSNso51",
        "colab": {
          "base_uri": "https://localhost:8080/"
        },
        "outputId": "7986c3a3-0b6d-48ed-cfe7-567708596464"
      },
      "execution_count": null,
      "outputs": [
        {
          "output_type": "stream",
          "name": "stdout",
          "text": [
            "請輸入一個正整數:50\n",
            "一到 50 的整數和為 1\n",
            "一到 50 的整數和為 3\n",
            "一到 50 的整數和為 6\n",
            "一到 50 的整數和為 10\n",
            "一到 50 的整數和為 15\n",
            "一到 50 的整數和為 21\n",
            "一到 50 的整數和為 28\n",
            "一到 50 的整數和為 36\n",
            "一到 50 的整數和為 45\n",
            "一到 50 的整數和為 55\n",
            "一到 50 的整數和為 66\n",
            "一到 50 的整數和為 78\n",
            "一到 50 的整數和為 91\n",
            "一到 50 的整數和為 105\n",
            "一到 50 的整數和為 120\n",
            "一到 50 的整數和為 136\n",
            "一到 50 的整數和為 153\n",
            "一到 50 的整數和為 171\n",
            "一到 50 的整數和為 190\n",
            "一到 50 的整數和為 210\n",
            "一到 50 的整數和為 231\n",
            "一到 50 的整數和為 253\n",
            "一到 50 的整數和為 276\n",
            "一到 50 的整數和為 300\n",
            "一到 50 的整數和為 325\n",
            "一到 50 的整數和為 351\n",
            "一到 50 的整數和為 378\n",
            "一到 50 的整數和為 406\n",
            "一到 50 的整數和為 435\n",
            "一到 50 的整數和為 465\n",
            "一到 50 的整數和為 496\n",
            "一到 50 的整數和為 528\n",
            "一到 50 的整數和為 561\n",
            "一到 50 的整數和為 595\n",
            "一到 50 的整數和為 630\n",
            "一到 50 的整數和為 666\n",
            "一到 50 的整數和為 703\n",
            "一到 50 的整數和為 741\n",
            "一到 50 的整數和為 780\n",
            "一到 50 的整數和為 820\n",
            "一到 50 的整數和為 861\n",
            "一到 50 的整數和為 903\n",
            "一到 50 的整數和為 946\n",
            "一到 50 的整數和為 990\n",
            "一到 50 的整數和為 1035\n",
            "一到 50 的整數和為 1081\n",
            "一到 50 的整數和為 1128\n",
            "一到 50 的整數和為 1176\n",
            "一到 50 的整數和為 1225\n",
            "一到 50 的整數和為 1275\n"
          ]
        }
      ]
    },
    {
      "cell_type": "code",
      "source": [
        "for j in range(1,5+1):\n",
        "  print(j)\n",
        "  for i in range(1,3):\n",
        "    k=i*j\n",
        "    print(j,\"*\",i,\"=\",k)"
      ],
      "metadata": {
        "id": "P6bDtCCXOKx9",
        "outputId": "7e3f9330-dc4d-4a29-ad34-00757dd14ebd",
        "colab": {
          "base_uri": "https://localhost:8080/"
        }
      },
      "execution_count": 2,
      "outputs": [
        {
          "output_type": "stream",
          "name": "stdout",
          "text": [
            "1\n",
            "1 * 1 = 1\n",
            "1 * 2 = 2\n",
            "2\n",
            "2 * 1 = 2\n",
            "2 * 2 = 4\n",
            "3\n",
            "3 * 1 = 3\n",
            "3 * 2 = 6\n",
            "4\n",
            "4 * 1 = 4\n",
            "4 * 2 = 8\n",
            "5\n",
            "5 * 1 = 5\n",
            "5 * 2 = 10\n"
          ]
        }
      ]
    },
    {
      "cell_type": "code",
      "source": [
        "for i in range (1,5):\n",
        "  if(i==4):\n",
        "    break\n",
        "  print(i,end='')"
      ],
      "metadata": {
        "id": "zslYtiSPPuB-",
        "outputId": "e6b6e9f8-fa34-49f3-d2ed-efddbaa26bde",
        "colab": {
          "base_uri": "https://localhost:8080/"
        }
      },
      "execution_count": 3,
      "outputs": [
        {
          "output_type": "stream",
          "name": "stdout",
          "text": [
            "123"
          ]
        }
      ]
    },
    {
      "cell_type": "code",
      "source": [
        "count=0\n",
        "for string in \"測試看看!\":\n",
        "  count+=1\n",
        "  if string ==\"看\":\n",
        "    break\n",
        "  print(string)\n",
        "\n",
        "print(\"迴圈結束\")\n",
        "print(\"迴圈執行了%d次\"%count)"
      ],
      "metadata": {
        "id": "ijJaB9wwQBJf",
        "outputId": "00d7dc03-3353-4d4d-961b-914973fe6891",
        "colab": {
          "base_uri": "https://localhost:8080/"
        }
      },
      "execution_count": 4,
      "outputs": [
        {
          "output_type": "stream",
          "name": "stdout",
          "text": [
            "測\n",
            "試\n",
            "迴圈結束\n",
            "迴圈執行了3次\n"
          ]
        }
      ]
    },
    {
      "cell_type": "code",
      "source": [
        "a=int(input(\"請樹入一個正整數:\"))\n",
        "for i in range (1,a+1):\n",
        "  if (i%5==0):\n",
        "    continue\n",
        "  print(i,end='')\n",
        "\n",
        "   "
      ],
      "metadata": {
        "id": "o3t3rPvIRFcn",
        "outputId": "73161742-ad66-45dc-eef2-ee74effad50d",
        "colab": {
          "base_uri": "https://localhost:8080/"
        }
      },
      "execution_count": 23,
      "outputs": [
        {
          "output_type": "stream",
          "name": "stdout",
          "text": [
            "請樹入一個正整數:15\n",
            "1234678911121314"
          ]
        }
      ]
    },
    {
      "cell_type": "code",
      "source": [
        "for j in range(2,10):\n",
        "  print(\"\")\n",
        "  for i in range(1,10):\n",
        "    k=j*i\n",
        "    print(j,\"*\",i,\"=\",k,end=\" \")"
      ],
      "metadata": {
        "id": "Fg-VRGMqYu4P",
        "outputId": "353c7789-3a27-46e5-bf48-74323054c7a4",
        "colab": {
          "base_uri": "https://localhost:8080/"
        }
      },
      "execution_count": 1,
      "outputs": [
        {
          "output_type": "stream",
          "name": "stdout",
          "text": [
            "\n",
            "2 * 1 = 2 2 * 2 = 4 2 * 3 = 6 2 * 4 = 8 2 * 5 = 10 2 * 6 = 12 2 * 7 = 14 2 * 8 = 16 2 * 9 = 18 \n",
            "3 * 1 = 3 3 * 2 = 6 3 * 3 = 9 3 * 4 = 12 3 * 5 = 15 3 * 6 = 18 3 * 7 = 21 3 * 8 = 24 3 * 9 = 27 \n",
            "4 * 1 = 4 4 * 2 = 8 4 * 3 = 12 4 * 4 = 16 4 * 5 = 20 4 * 6 = 24 4 * 7 = 28 4 * 8 = 32 4 * 9 = 36 \n",
            "5 * 1 = 5 5 * 2 = 10 5 * 3 = 15 5 * 4 = 20 5 * 5 = 25 5 * 6 = 30 5 * 7 = 35 5 * 8 = 40 5 * 9 = 45 \n",
            "6 * 1 = 6 6 * 2 = 12 6 * 3 = 18 6 * 4 = 24 6 * 5 = 30 6 * 6 = 36 6 * 7 = 42 6 * 8 = 48 6 * 9 = 54 \n",
            "7 * 1 = 7 7 * 2 = 14 7 * 3 = 21 7 * 4 = 28 7 * 5 = 35 7 * 6 = 42 7 * 7 = 49 7 * 8 = 56 7 * 9 = 63 \n",
            "8 * 1 = 8 8 * 2 = 16 8 * 3 = 24 8 * 4 = 32 8 * 5 = 40 8 * 6 = 48 8 * 7 = 56 8 * 8 = 64 8 * 9 = 72 \n",
            "9 * 1 = 9 9 * 2 = 18 9 * 3 = 27 9 * 4 = 36 9 * 5 = 45 9 * 6 = 54 9 * 7 = 63 9 * 8 = 72 9 * 9 = 81 "
          ]
        }
      ]
    }
  ]
}