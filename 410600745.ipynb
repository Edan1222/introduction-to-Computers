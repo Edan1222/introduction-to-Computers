{
  "nbformat": 4,
  "nbformat_minor": 0,
  "metadata": {
    "colab": {
      "name": "410600745",
      "provenance": [],
      "authorship_tag": "ABX9TyOXJn86Z3ZFBCELxK0CveLk",
      "include_colab_link": true
    },
    "kernelspec": {
      "name": "python3",
      "display_name": "Python 3"
    },
    "language_info": {
      "name": "python"
    }
  },
  "cells": [
    {
      "cell_type": "markdown",
      "metadata": {
        "id": "view-in-github",
        "colab_type": "text"
      },
      "source": [
        "<a href=\"https://colab.research.google.com/github/Edan1222/introduction-to-Computers/blob/main/410600745.ipynb\" target=\"_parent\"><img src=\"https://colab.research.google.com/assets/colab-badge.svg\" alt=\"Open In Colab\"/></a>"
      ]
    },
    {
      "cell_type": "code",
      "execution_count": 1,
      "metadata": {
        "colab": {
          "base_uri": "https://localhost:8080/"
        },
        "id": "-_gKKVHiqI4Q",
        "outputId": "ebe64cdb-6d46-46d7-a2d1-e889da53aee3"
      },
      "outputs": [
        {
          "output_type": "stream",
          "name": "stdout",
          "text": [
            "輸入密碼:55\n",
            "猜得太大囉!加油!\n",
            "請輸入密碼:44\n",
            "恭喜答對!\n",
            "猜得太大囉!加油!\n",
            "請輸入密碼:77\n",
            "恭喜答對!\n",
            "猜得太大囉!加油!\n",
            "請輸入密碼:12\n",
            "恭喜答對!\n"
          ]
        }
      ],
      "source": [
        "password=12\n",
        "enter=int(input(\"輸入密碼:\"))\n",
        "\n",
        "while enter !=password:\n",
        "  if enter < password:\n",
        "    print(\"猜得太小囉!請加油!\")\n",
        "  else:\n",
        "    print(\"猜得太大囉!加油!\")\n",
        "  enter=int(input(\"請輸入密碼:\"))\n",
        "  print(\"恭喜答對!\")"
      ]
    },
    {
      "cell_type": "code",
      "source": [
        "ra = input(\"今天會下雨嗎?\")\n",
        "if(ra==\"Y\" or ra==\"y\"):\n",
        "  print(\"要記得帶傘喔!\")\n",
        "else:\n",
        "  print(\"不用帶傘喔\")"
      ],
      "metadata": {
        "colab": {
          "base_uri": "https://localhost:8080/"
        },
        "id": "meGbhWm6rr0C",
        "outputId": "7357fa29-a5c8-413a-b366-ec13a6abab90"
      },
      "execution_count": 2,
      "outputs": [
        {
          "output_type": "stream",
          "name": "stdout",
          "text": [
            "今天會下雨嗎?n\n",
            "不用帶傘喔\n"
          ]
        }
      ]
    },
    {
      "cell_type": "code",
      "source": [
        "i=int(input(\"請輸入正整數:\"))\n",
        "if(i%2==0):\n",
        "    print(i,\"為偶數\")\n",
        "else:\n",
        "    print(i,\"為奇數\")"
      ],
      "metadata": {
        "colab": {
          "base_uri": "https://localhost:8080/"
        },
        "id": "yHVkeDl0sa7M",
        "outputId": "5ed658be-eaf9-4478-bc1a-ea29e1398972"
      },
      "execution_count": 3,
      "outputs": [
        {
          "output_type": "stream",
          "name": "stdout",
          "text": [
            "請輸入正整數:88\n",
            "88 為偶數\n"
          ]
        }
      ]
    }
  ]
}