{
  "nbformat": 4,
  "nbformat_minor": 0,
  "metadata": {
    "colab": {
      "name": "410600745",
      "provenance": [],
      "collapsed_sections": [],
      "authorship_tag": "ABX9TyMIKZNq/L/OPacoCIkLwHpK",
      "include_colab_link": true
    },
    "kernelspec": {
      "name": "python3",
      "display_name": "Python 3"
    },
    "language_info": {
      "name": "python"
    }
  },
  "cells": [
    {
      "cell_type": "markdown",
      "metadata": {
        "id": "view-in-github",
        "colab_type": "text"
      },
      "source": [
        "<a href=\"https://colab.research.google.com/github/Edan1222/introduction-to-Computers/blob/main/410600745.ipynb\" target=\"_parent\"><img src=\"https://colab.research.google.com/assets/colab-badge.svg\" alt=\"Open In Colab\"/></a>"
      ]
    },
    {
      "cell_type": "code",
      "execution_count": null,
      "metadata": {
        "colab": {
          "base_uri": "https://localhost:8080/"
        },
        "id": "-_gKKVHiqI4Q",
        "outputId": "ebe64cdb-6d46-46d7-a2d1-e889da53aee3"
      },
      "outputs": [
        {
          "output_type": "stream",
          "name": "stdout",
          "text": [
            "輸入密碼:55\n",
            "猜得太大囉!加油!\n",
            "請輸入密碼:44\n",
            "恭喜答對!\n",
            "猜得太大囉!加油!\n",
            "請輸入密碼:77\n",
            "恭喜答對!\n",
            "猜得太大囉!加油!\n",
            "請輸入密碼:12\n",
            "恭喜答對!\n"
          ]
        }
      ],
      "source": [
        "password=12\n",
        "enter=int(input(\"輸入密碼:\"))\n",
        "\n",
        "while enter !=password:\n",
        "  if enter < password:\n",
        "    print(\"猜得太小囉!請加油!\")\n",
        "  else:\n",
        "    print(\"猜得太大囉!加油!\")\n",
        "  enter=int(input(\"請輸入密碼:\"))\n",
        "  print(\"恭喜答對!\")"
      ]
    },
    {
      "cell_type": "code",
      "source": [
        ""
      ],
      "metadata": {
        "id": "FfgjD7mw6bWV"
      },
      "execution_count": null,
      "outputs": []
    },
    {
      "cell_type": "code",
      "source": [
        "ra = input(\"今天會下雨嗎?\")\n",
        "if(ra==\"Y\" or ra==\"y\"):\n",
        "  print(\"要記得帶傘喔!\")\n",
        "else:\n",
        "  print(\"不用帶傘喔\")"
      ],
      "metadata": {
        "colab": {
          "base_uri": "https://localhost:8080/"
        },
        "id": "meGbhWm6rr0C",
        "outputId": "7357fa29-a5c8-413a-b366-ec13a6abab90"
      },
      "execution_count": null,
      "outputs": [
        {
          "output_type": "stream",
          "name": "stdout",
          "text": [
            "今天會下雨嗎?n\n",
            "不用帶傘喔\n"
          ]
        }
      ]
    },
    {
      "cell_type": "code",
      "source": [
        "i=int(input(\"請輸入正整數:\"))\n",
        "if(i%2==0):\n",
        "    print(i,\"為偶數\")\n",
        "else:\n",
        "    print(i,\"為奇數\")"
      ],
      "metadata": {
        "colab": {
          "base_uri": "https://localhost:8080/"
        },
        "id": "yHVkeDl0sa7M",
        "outputId": "5ed658be-eaf9-4478-bc1a-ea29e1398972"
      },
      "execution_count": null,
      "outputs": [
        {
          "output_type": "stream",
          "name": "stdout",
          "text": [
            "請輸入正整數:88\n",
            "88 為偶數\n"
          ]
        }
      ]
    },
    {
      "cell_type": "code",
      "source": [
        "temp= float(input(\"請輸入你的體溫\"))\n",
        "if temp >= 37.5:\n",
        "  print(\"體溫過高!\")\n",
        "elif temp >= 37 and temp < 37.4:\n",
        "  print(\"體溫略高!\")\n",
        "elif temp >= 34 and temp <=36.9:\n",
        "  print(\"體溫正常!\")\n",
        "else:\n",
        "  print(\"體溫異常,請重新測量!\")"
      ],
      "metadata": {
        "colab": {
          "base_uri": "https://localhost:8080/"
        },
        "id": "emBlwZmm6cwG",
        "outputId": "43fba1fd-b3cf-4eb6-f822-85a35ce2b0e6"
      },
      "execution_count": null,
      "outputs": [
        {
          "output_type": "stream",
          "name": "stdout",
          "text": [
            "請輸入你的體溫36\n",
            "體溫正常!\n"
          ]
        }
      ]
    },
    {
      "cell_type": "code",
      "source": [
        "score = input(\"請輸入成績\")\n",
        "if (int(score)>=90):\n",
        "  print(\"A\")\n",
        "elif(int(score)>=80):\n",
        "  print(\"B\")\n",
        "elif(int(score)>=70):\n",
        "  print(\"C\")\n",
        "elif(int(score)>=60):\n",
        "  print(\"D\")\n",
        "else:\n",
        "  print(\"E\")"
      ],
      "metadata": {
        "colab": {
          "base_uri": "https://localhost:8080/"
        },
        "id": "brDzn_7Z-cq8",
        "outputId": "118aa660-b61c-4a1d-f2eb-2c821fe340b0"
      },
      "execution_count": null,
      "outputs": [
        {
          "output_type": "stream",
          "name": "stdout",
          "text": [
            "請輸入成績79\n",
            "C\n"
          ]
        }
      ]
    },
    {
      "cell_type": "code",
      "source": [
        "revenue=int(input(\"請輸入今年收入淨額:\"))\n",
        "if(revenue>=300000):\n",
        "  if(revenue>=2000000):\n",
        "    print(\"付稅金額:\",revenue*0.3,end=\"元\\n\")\n",
        "  elif(revenue>=1000000):\n",
        "    print(\"付稅金額:\",revenue*0.21,end=\"元\\n\")\n",
        "  elif(revenue>=600000):\n",
        "    print(\"付稅金額:\",revenue*0.13,end=\"元\\n\")\n",
        "  else:\n",
        "    print(\"付稅金額:\",revenue*0.06,end=\"元\\n\")\n",
        "else:\n",
        "  print(\"不用繳稅\")"
      ],
      "metadata": {
        "colab": {
          "base_uri": "https://localhost:8080/"
        },
        "id": "EfzHwe95AF__",
        "outputId": "b3d53e3e-0997-45d6-8e74-e375bd7f3e5e"
      },
      "execution_count": null,
      "outputs": [
        {
          "output_type": "stream",
          "name": "stdout",
          "text": [
            "請輸入今年收入淨額:455555\n",
            "付稅金額: 27333.3元\n"
          ]
        }
      ]
    },
    {
      "cell_type": "code",
      "source": [
        "a=int(input(\"請輸入月份:\"))\n",
        "if (a==3 or a==4 or a==5):\n",
        "  print(a,\"月是春天!\")\n",
        "elif(a==6 or a==7 or a==8):\n",
        "  print(a,\"月是夏天!\")\n",
        "elif(a==9 or a==10 or a==11):\n",
        "  print(a,\"月是秋天!\")\n",
        "elif(a==12 or a==1 or a==2):\n",
        "  print(a,\"月是冬天!\")\n",
        "else:\n",
        "  print(\"月分不再範圍內!\")"
      ],
      "metadata": {
        "colab": {
          "base_uri": "https://localhost:8080/"
        },
        "id": "pwCRDK_uE6tc",
        "outputId": "b072283e-34f9-48c8-de94-6de148b12e5c"
      },
      "execution_count": null,
      "outputs": [
        {
          "output_type": "stream",
          "name": "stdout",
          "text": [
            "請輸入月份:4\n",
            "4 月是春天!\n"
          ]
        }
      ]
    },
    {
      "cell_type": "code",
      "source": [
        "money=int(input(\"請輸入購物金額:\"))\n",
        "if(money>=10000):\n",
        "  if(money>=100000):\n",
        "    print(\"八折\",money*0.8,end=\"元\\n\")\n",
        "  elif(money>=50000):\n",
        "    print(\"八五折\",money*0.85,end=\"元\\n\")\n",
        "  elif(money>=30000):\n",
        "    print(\"九折\",money*0.9,end=\"元\\n\")\n",
        "  else:\n",
        "    print(\"九五折\",mpney*0.95,end=\"元\\n\")\n",
        "else:\n",
        "  print(\"沒打折\",mpney,end=\"元\\n\")"
      ],
      "metadata": {
        "colab": {
          "base_uri": "https://localhost:8080/"
        },
        "id": "YjqL4x5FB878",
        "outputId": "e14aff05-1be0-4d9f-c85c-755885c34179"
      },
      "execution_count": null,
      "outputs": [
        {
          "output_type": "stream",
          "name": "stdout",
          "text": [
            "請輸入購物金額:12222222\n",
            "八折 9777777.6元\n"
          ]
        }
      ]
    },
    {
      "cell_type": "code",
      "source": [
        "test=int(input('請輸入一個正整數:'))\n",
        "sum=0\n",
        "for n in range(test):\n",
        " sum=sum+n\n",
        "print(\"1到\",test,\"的整數和為\",sum)\n"
      ],
      "metadata": {
        "colab": {
          "base_uri": "https://localhost:8080/"
        },
        "id": "tR6HrUaYrF1Z",
        "outputId": "76c7b962-23b3-4bd1-c94c-ae3c98176a9e"
      },
      "execution_count": null,
      "outputs": [
        {
          "output_type": "stream",
          "name": "stdout",
          "text": [
            "請輸入一個正整數:45\n",
            "1到 45 的整數和為 990\n"
          ]
        }
      ]
    },
    {
      "cell_type": "code",
      "source": [
        "sum=0\n",
        "test=int(input(\"請輸入一個正整數:\"))\n",
        "for n in  range(1,test+1):\n",
        "  sum=sum+n\n",
        "  print('一到',test,\"的整數和為\",sum)\n"
      ],
      "metadata": {
        "id": "4bB_gbSNso51",
        "colab": {
          "base_uri": "https://localhost:8080/"
        },
        "outputId": "7986c3a3-0b6d-48ed-cfe7-567708596464"
      },
      "execution_count": null,
      "outputs": [
        {
          "output_type": "stream",
          "name": "stdout",
          "text": [
            "請輸入一個正整數:50\n",
            "一到 50 的整數和為 1\n",
            "一到 50 的整數和為 3\n",
            "一到 50 的整數和為 6\n",
            "一到 50 的整數和為 10\n",
            "一到 50 的整數和為 15\n",
            "一到 50 的整數和為 21\n",
            "一到 50 的整數和為 28\n",
            "一到 50 的整數和為 36\n",
            "一到 50 的整數和為 45\n",
            "一到 50 的整數和為 55\n",
            "一到 50 的整數和為 66\n",
            "一到 50 的整數和為 78\n",
            "一到 50 的整數和為 91\n",
            "一到 50 的整數和為 105\n",
            "一到 50 的整數和為 120\n",
            "一到 50 的整數和為 136\n",
            "一到 50 的整數和為 153\n",
            "一到 50 的整數和為 171\n",
            "一到 50 的整數和為 190\n",
            "一到 50 的整數和為 210\n",
            "一到 50 的整數和為 231\n",
            "一到 50 的整數和為 253\n",
            "一到 50 的整數和為 276\n",
            "一到 50 的整數和為 300\n",
            "一到 50 的整數和為 325\n",
            "一到 50 的整數和為 351\n",
            "一到 50 的整數和為 378\n",
            "一到 50 的整數和為 406\n",
            "一到 50 的整數和為 435\n",
            "一到 50 的整數和為 465\n",
            "一到 50 的整數和為 496\n",
            "一到 50 的整數和為 528\n",
            "一到 50 的整數和為 561\n",
            "一到 50 的整數和為 595\n",
            "一到 50 的整數和為 630\n",
            "一到 50 的整數和為 666\n",
            "一到 50 的整數和為 703\n",
            "一到 50 的整數和為 741\n",
            "一到 50 的整數和為 780\n",
            "一到 50 的整數和為 820\n",
            "一到 50 的整數和為 861\n",
            "一到 50 的整數和為 903\n",
            "一到 50 的整數和為 946\n",
            "一到 50 的整數和為 990\n",
            "一到 50 的整數和為 1035\n",
            "一到 50 的整數和為 1081\n",
            "一到 50 的整數和為 1128\n",
            "一到 50 的整數和為 1176\n",
            "一到 50 的整數和為 1225\n",
            "一到 50 的整數和為 1275\n"
          ]
        }
      ]
    },
    {
      "cell_type": "code",
      "source": [
        "for i in range(2,10):\n",
        "  for j in range(1,10):\n",
        "    product=i*j\n",
        "    print(\"%d*%d=%2d  \"%(i,j,product),end=\"\")\n",
        "  print()"
      ],
      "metadata": {
        "id": "p8wvTNf_DFYn",
        "outputId": "2f0e2dfa-51cf-472f-f75a-94f6895ca08e",
        "colab": {
          "base_uri": "https://localhost:8080/"
        }
      },
      "execution_count": null,
      "outputs": [
        {
          "output_type": "stream",
          "name": "stdout",
          "text": [
            "2*1= 2  2*2= 4  2*3= 6  2*4= 8  2*5=10  2*6=12  2*7=14  2*8=16  2*9=18  \n",
            "3*1= 3  3*2= 6  3*3= 9  3*4=12  3*5=15  3*6=18  3*7=21  3*8=24  3*9=27  \n",
            "4*1= 4  4*2= 8  4*3=12  4*4=16  4*5=20  4*6=24  4*7=28  4*8=32  4*9=36  \n",
            "5*1= 5  5*2=10  5*3=15  5*4=20  5*5=25  5*6=30  5*7=35  5*8=40  5*9=45  \n",
            "6*1= 6  6*2=12  6*3=18  6*4=24  6*5=30  6*6=36  6*7=42  6*8=48  6*9=54  \n",
            "7*1= 7  7*2=14  7*3=21  7*4=28  7*5=35  7*6=42  7*7=49  7*8=56  7*9=63  \n",
            "8*1= 8  8*2=16  8*3=24  8*4=32  8*5=40  8*6=48  8*7=56  8*8=64  8*9=72  \n",
            "9*1= 9  9*2=18  9*3=27  9*4=36  9*5=45  9*6=54  9*7=63  9*8=72  9*9=81  \n"
          ]
        }
      ]
    },
    {
      "cell_type": "code",
      "source": [
        "a=int(input(\"請輸入a的值\"))\n",
        "b=int(input(\"請輸入b的值\"))\n",
        "\n",
        "maxno=a*b\n",
        "for i in range (1,maxno+1):\n",
        "  if(i % a == 0 and i % b == 0):\n",
        "    break\n",
        "print(\"%d和 %d的最小公倍數 = %d\"%(a,b,i)) "
      ],
      "metadata": {
        "id": "vh9XIo91EL8s",
        "outputId": "d0da21f6-c21c-4934-b7a0-1f63918034f8",
        "colab": {
          "base_uri": "https://localhost:8080/"
        }
      },
      "execution_count": null,
      "outputs": [
        {
          "output_type": "stream",
          "name": "stdout",
          "text": [
            "請輸入a的值45\n",
            "請輸入b的值55\n",
            "45和 55的最小公倍數 = 495\n"
          ]
        }
      ]
    },
    {
      "cell_type": "code",
      "source": [
        "n=int(input(\"請輸入正整數:\"))\n",
        "for i in range(1,n+1):\n",
        "  if i % 5 == 0:\n",
        "    continue\n",
        "  print(i,end=\" \")"
      ],
      "metadata": {
        "id": "UhgvjaKVGyti",
        "outputId": "01baa3f9-60c3-411d-8c80-702f4037ec8c",
        "colab": {
          "base_uri": "https://localhost:8080/"
        }
      },
      "execution_count": null,
      "outputs": [
        {
          "output_type": "stream",
          "name": "stdout",
          "text": [
            "請輸入正整數:45\n",
            "1 2 3 4 6 7 8 9 11 12 13 14 16 17 18 19 21 22 23 24 26 27 28 29 31 32 33 34 36 37 38 39 41 42 43 44 "
          ]
        }
      ]
    },
    {
      "cell_type": "code",
      "source": [
        "total = n = 0\n",
        "while(n<= 10):\n",
        "  total += n\n",
        "  n+=1\n",
        "print(total)"
      ],
      "metadata": {
        "id": "rctaGx3LIvF1",
        "outputId": "09dabf45-66fd-4719-cc48-e7a17ccbd4a2",
        "colab": {
          "base_uri": "https://localhost:8080/"
        }
      },
      "execution_count": null,
      "outputs": [
        {
          "output_type": "stream",
          "name": "stdout",
          "text": [
            "55\n"
          ]
        }
      ]
    },
    {
      "cell_type": "code",
      "source": [
        "total=i=1\n",
        "n=int(input(\"請輸入正整數n的值:\"))\n",
        "while i<=n:\n",
        "  total *=i\n",
        "print(\"%d!=%d%\"(n,total))"
      ],
      "metadata": {
        "id": "PXSa3cOTL2jr",
        "outputId": "e8e0b9d8-5327-4f7c-b3ce-2f9765484bdb",
        "colab": {
          "base_uri": "https://localhost:8080/"
        }
      },
      "execution_count": null,
      "outputs": [
        {
          "name": "stdout",
          "output_type": "stream",
          "text": [
            "請輸入正整數n的值:45\n"
          ]
        }
      ]
    },
    {
      "cell_type": "code",
      "source": [
        "at=0\n",
        "bt=0\n",
        "n=0\n",
        "while n <=50:\n",
        "  if n%2==1:\n",
        "    at+=n\n",
        "    n+=1\n",
        "  else:\n",
        "    bt+=n\n",
        "    n+=1\n",
        "print(\"0~50的偶數和是\",bt,sep=\"\")\n",
        "print(\"0~50的奇數和是\",at,sep=\"\")"
      ],
      "metadata": {
        "id": "_HPeYZ8F-UPU",
        "outputId": "a43b58ba-2396-41da-d4d4-f956670ba320",
        "colab": {
          "base_uri": "https://localhost:8080/"
        }
      },
      "execution_count": null,
      "outputs": [
        {
          "output_type": "stream",
          "name": "stdout",
          "text": [
            "0~50的偶數和是650\n",
            "0~50的奇數和是625\n"
          ]
        }
      ]
    },
    {
      "cell_type": "code",
      "source": [
        "a=int(input(\"請輸入一個正整數:\"))\n",
        "while a>=1:\n",
        "  for i in range(1,a+1):\n",
        "    print(\"*\",end=\"\")\n",
        "  a-=1\n",
        "  print('')\n"
      ],
      "metadata": {
        "id": "BukkfROL_Y3B",
        "outputId": "d4d4e675-31b3-4347-f407-757dac70ccd9",
        "colab": {
          "base_uri": "https://localhost:8080/"
        }
      },
      "execution_count": null,
      "outputs": [
        {
          "output_type": "stream",
          "name": "stdout",
          "text": [
            "請輸入一個正整數:4\n",
            "****\n",
            "***\n",
            "**\n",
            "*\n"
          ]
        }
      ]
    },
    {
      "cell_type": "code",
      "source": [
        "a=0\n",
        "for i in range(1,101):\n",
        "  if i%3==0 or i%7==0:\n",
        "    a+=i\n",
        "  print(\"數值1~100中,是3或7的倍數的總和=\",a,sep=\"\")"
      ],
      "metadata": {
        "id": "1eELluPg_3TI",
        "outputId": "e4e9971e-598d-4e9a-a98d-84bf5a04ed30",
        "colab": {
          "base_uri": "https://localhost:8080/"
        }
      },
      "execution_count": null,
      "outputs": [
        {
          "output_type": "stream",
          "name": "stdout",
          "text": [
            "數值1~100中,是3或7的倍數的總和=0\n",
            "數值1~100中,是3或7的倍數的總和=0\n",
            "數值1~100中,是3或7的倍數的總和=3\n",
            "數值1~100中,是3或7的倍數的總和=3\n",
            "數值1~100中,是3或7的倍數的總和=3\n",
            "數值1~100中,是3或7的倍數的總和=9\n",
            "數值1~100中,是3或7的倍數的總和=16\n",
            "數值1~100中,是3或7的倍數的總和=16\n",
            "數值1~100中,是3或7的倍數的總和=25\n",
            "數值1~100中,是3或7的倍數的總和=25\n",
            "數值1~100中,是3或7的倍數的總和=25\n",
            "數值1~100中,是3或7的倍數的總和=37\n",
            "數值1~100中,是3或7的倍數的總和=37\n",
            "數值1~100中,是3或7的倍數的總和=51\n",
            "數值1~100中,是3或7的倍數的總和=66\n",
            "數值1~100中,是3或7的倍數的總和=66\n",
            "數值1~100中,是3或7的倍數的總和=66\n",
            "數值1~100中,是3或7的倍數的總和=84\n",
            "數值1~100中,是3或7的倍數的總和=84\n",
            "數值1~100中,是3或7的倍數的總和=84\n",
            "數值1~100中,是3或7的倍數的總和=105\n",
            "數值1~100中,是3或7的倍數的總和=105\n",
            "數值1~100中,是3或7的倍數的總和=105\n",
            "數值1~100中,是3或7的倍數的總和=129\n",
            "數值1~100中,是3或7的倍數的總和=129\n",
            "數值1~100中,是3或7的倍數的總和=129\n",
            "數值1~100中,是3或7的倍數的總和=156\n",
            "數值1~100中,是3或7的倍數的總和=184\n",
            "數值1~100中,是3或7的倍數的總和=184\n",
            "數值1~100中,是3或7的倍數的總和=214\n",
            "數值1~100中,是3或7的倍數的總和=214\n",
            "數值1~100中,是3或7的倍數的總和=214\n",
            "數值1~100中,是3或7的倍數的總和=247\n",
            "數值1~100中,是3或7的倍數的總和=247\n",
            "數值1~100中,是3或7的倍數的總和=282\n",
            "數值1~100中,是3或7的倍數的總和=318\n",
            "數值1~100中,是3或7的倍數的總和=318\n",
            "數值1~100中,是3或7的倍數的總和=318\n",
            "數值1~100中,是3或7的倍數的總和=357\n",
            "數值1~100中,是3或7的倍數的總和=357\n",
            "數值1~100中,是3或7的倍數的總和=357\n",
            "數值1~100中,是3或7的倍數的總和=399\n",
            "數值1~100中,是3或7的倍數的總和=399\n",
            "數值1~100中,是3或7的倍數的總和=399\n",
            "數值1~100中,是3或7的倍數的總和=444\n",
            "數值1~100中,是3或7的倍數的總和=444\n",
            "數值1~100中,是3或7的倍數的總和=444\n",
            "數值1~100中,是3或7的倍數的總和=492\n",
            "數值1~100中,是3或7的倍數的總和=541\n",
            "數值1~100中,是3或7的倍數的總和=541\n",
            "數值1~100中,是3或7的倍數的總和=592\n",
            "數值1~100中,是3或7的倍數的總和=592\n",
            "數值1~100中,是3或7的倍數的總和=592\n",
            "數值1~100中,是3或7的倍數的總和=646\n",
            "數值1~100中,是3或7的倍數的總和=646\n",
            "數值1~100中,是3或7的倍數的總和=702\n",
            "數值1~100中,是3或7的倍數的總和=759\n",
            "數值1~100中,是3或7的倍數的總和=759\n",
            "數值1~100中,是3或7的倍數的總和=759\n",
            "數值1~100中,是3或7的倍數的總和=819\n",
            "數值1~100中,是3或7的倍數的總和=819\n",
            "數值1~100中,是3或7的倍數的總和=819\n",
            "數值1~100中,是3或7的倍數的總和=882\n",
            "數值1~100中,是3或7的倍數的總和=882\n",
            "數值1~100中,是3或7的倍數的總和=882\n",
            "數值1~100中,是3或7的倍數的總和=948\n",
            "數值1~100中,是3或7的倍數的總和=948\n",
            "數值1~100中,是3或7的倍數的總和=948\n",
            "數值1~100中,是3或7的倍數的總和=1017\n",
            "數值1~100中,是3或7的倍數的總和=1087\n",
            "數值1~100中,是3或7的倍數的總和=1087\n",
            "數值1~100中,是3或7的倍數的總和=1159\n",
            "數值1~100中,是3或7的倍數的總和=1159\n",
            "數值1~100中,是3或7的倍數的總和=1159\n",
            "數值1~100中,是3或7的倍數的總和=1234\n",
            "數值1~100中,是3或7的倍數的總和=1234\n",
            "數值1~100中,是3或7的倍數的總和=1311\n",
            "數值1~100中,是3或7的倍數的總和=1389\n",
            "數值1~100中,是3或7的倍數的總和=1389\n",
            "數值1~100中,是3或7的倍數的總和=1389\n",
            "數值1~100中,是3或7的倍數的總和=1470\n",
            "數值1~100中,是3或7的倍數的總和=1470\n",
            "數值1~100中,是3或7的倍數的總和=1470\n",
            "數值1~100中,是3或7的倍數的總和=1554\n",
            "數值1~100中,是3或7的倍數的總和=1554\n",
            "數值1~100中,是3或7的倍數的總和=1554\n",
            "數值1~100中,是3或7的倍數的總和=1641\n",
            "數值1~100中,是3或7的倍數的總和=1641\n",
            "數值1~100中,是3或7的倍數的總和=1641\n",
            "數值1~100中,是3或7的倍數的總和=1731\n",
            "數值1~100中,是3或7的倍數的總和=1822\n",
            "數值1~100中,是3或7的倍數的總和=1822\n",
            "數值1~100中,是3或7的倍數的總和=1915\n",
            "數值1~100中,是3或7的倍數的總和=1915\n",
            "數值1~100中,是3或7的倍數的總和=1915\n",
            "數值1~100中,是3或7的倍數的總和=2011\n",
            "數值1~100中,是3或7的倍數的總和=2011\n",
            "數值1~100中,是3或7的倍數的總和=2109\n",
            "數值1~100中,是3或7的倍數的總和=2208\n",
            "數值1~100中,是3或7的倍數的總和=2208\n"
          ]
        }
      ]
    },
    {
      "cell_type": "code",
      "source": [
        "i=0\n",
        "result=0\n",
        "while i <=50:\n",
        "  if i %2 ==0:\n",
        "    result += i \n",
        "  i+=1\n",
        "print(\"0~50的偶數和結果是%d\"%result)"
      ],
      "metadata": {
        "id": "9YIOc9YaGahV",
        "outputId": "e00525e6-cad4-45cc-fe70-8ac81b9c4ad0",
        "colab": {
          "base_uri": "https://localhost:8080/"
        }
      },
      "execution_count": null,
      "outputs": [
        {
          "output_type": "stream",
          "name": "stdout",
          "text": [
            "0~50的偶數和結果是650\n"
          ]
        }
      ]
    },
    {
      "cell_type": "code",
      "source": [
        "i=0\n",
        "result=0\n",
        "while i <=50:\n",
        "  if i %2==0:\n",
        "    result += i \n",
        "  i +=1\n",
        "print(\"0~50的偶數和結果是%d\"%result)"
      ],
      "metadata": {
        "id": "2UyXCGcaHMdv",
        "outputId": "625d7160-3041-4220-c536-505a6e2cecd8",
        "colab": {
          "base_uri": "https://localhost:8080/"
        }
      },
      "execution_count": null,
      "outputs": [
        {
          "output_type": "stream",
          "name": "stdout",
          "text": [
            "0~50的偶數和結果是650\n"
          ]
        }
      ]
    },
    {
      "cell_type": "code",
      "source": [
        "n = int(input(\"請輸入正整數:\"))\n",
        "for i in range(1,n+1):\n",
        "  for j in range(i,n+1):\n",
        "    print(\"*\",end=\"\")\n",
        "  print()"
      ],
      "metadata": {
        "id": "9RFetGpPHsHo",
        "outputId": "96544d07-e971-450a-e532-63ea85377fcc",
        "colab": {
          "base_uri": "https://localhost:8080/"
        }
      },
      "execution_count": null,
      "outputs": [
        {
          "output_type": "stream",
          "name": "stdout",
          "text": [
            "請輸入正整數:10\n",
            "**********\n",
            "*********\n",
            "********\n",
            "*******\n",
            "******\n",
            "*****\n",
            "****\n",
            "***\n",
            "**\n",
            "*\n"
          ]
        }
      ]
    },
    {
      "cell_type": "code",
      "source": [
        "sum=0\n",
        "for i in range(0,101):\n",
        "  if(i%3==0 or i%7==0):\n",
        "    sum += i\n",
        "print(\"數值1~100中,所有是3或7倍數之總和=\",sum)"
      ],
      "metadata": {
        "id": "O3_1We2-JJ7s",
        "outputId": "e3c71dbf-5902-48a4-d5bb-b9fc2e39649b",
        "colab": {
          "base_uri": "https://localhost:8080/"
        }
      },
      "execution_count": null,
      "outputs": [
        {
          "output_type": "stream",
          "name": "stdout",
          "text": [
            "數值1~100中,所有是3或7倍數之總和= 2208\n"
          ]
        }
      ]
    },
    {
      "cell_type": "code",
      "source": [
        "p=1\n",
        "counter=0\n",
        "n=int(input(\"請輸入正整數:\"))\n",
        "print(n,\"的因數有\",end=\"\")\n",
        "while(p<=n):\n",
        "  if(n%p==0):\n",
        "    print(p,end=\"\")\n",
        "    counter+=1\n",
        "  p+=1\n",
        "\n",
        "print()\n",
        "if(counter==2):\n",
        "  print(n,\"是質數\")\n",
        "else:\n",
        "  print(n,\"不是質數\")"
      ],
      "metadata": {
        "id": "xellJy71K1jR",
        "outputId": "a95cc327-2fd0-40b4-9e47-68b0e42d9417",
        "colab": {
          "base_uri": "https://localhost:8080/"
        }
      },
      "execution_count": null,
      "outputs": [
        {
          "output_type": "stream",
          "name": "stdout",
          "text": [
            "請輸入正整數:3\n",
            "3 的因數有13\n",
            "3 是質數\n"
          ]
        }
      ]
    },
    {
      "cell_type": "code",
      "source": [
        "list1 = [1,2,3,4,5]"
      ],
      "metadata": {
        "id": "NM02ie1dL0hm"
      },
      "execution_count": null,
      "outputs": []
    },
    {
      "cell_type": "code",
      "source": [
        "list1"
      ],
      "metadata": {
        "id": "Kpk9NhTSL7o8",
        "outputId": "d32b6608-b533-4164-8ec4-5ac8d795342c",
        "colab": {
          "base_uri": "https://localhost:8080/"
        }
      },
      "execution_count": null,
      "outputs": [
        {
          "output_type": "execute_result",
          "data": {
            "text/plain": [
              "[1, 2, 3, 4, 5]"
            ]
          },
          "metadata": {},
          "execution_count": 11
        }
      ]
    },
    {
      "cell_type": "code",
      "source": [
        "list2 = [\"香蕉\",\"蘋果\",\"橘子\"]"
      ],
      "metadata": {
        "id": "N03fpIhkMUzF"
      },
      "execution_count": null,
      "outputs": []
    },
    {
      "cell_type": "code",
      "source": [
        "list2"
      ],
      "metadata": {
        "id": "t-U7BHqnMfBg",
        "outputId": "6bb273c7-f26f-4096-d1e7-4a2d5ef974c0",
        "colab": {
          "base_uri": "https://localhost:8080/"
        }
      },
      "execution_count": null,
      "outputs": [
        {
          "output_type": "execute_result",
          "data": {
            "text/plain": [
              "['香蕉', '蘋果', '橘子']"
            ]
          },
          "metadata": {},
          "execution_count": 14
        }
      ]
    },
    {
      "cell_type": "code",
      "source": [
        "list3 = [1,\"香蕉\",True]"
      ],
      "metadata": {
        "id": "2oqKh4vdMiPz"
      },
      "execution_count": null,
      "outputs": []
    },
    {
      "cell_type": "code",
      "source": [
        "list3"
      ],
      "metadata": {
        "id": "xklRg33KMrbk",
        "outputId": "b4e79924-beaa-405a-cc51-fcce0822e70b",
        "colab": {
          "base_uri": "https://localhost:8080/"
        }
      },
      "execution_count": null,
      "outputs": [
        {
          "output_type": "execute_result",
          "data": {
            "text/plain": [
              "[1, '香蕉', True]"
            ]
          },
          "metadata": {},
          "execution_count": 16
        }
      ]
    },
    {
      "cell_type": "code",
      "source": [
        "print(list1[0])"
      ],
      "metadata": {
        "id": "H0dTfPixNPiQ",
        "outputId": "93cd0895-600b-4ac7-c95f-6b75fb944b2a",
        "colab": {
          "base_uri": "https://localhost:8080/"
        }
      },
      "execution_count": null,
      "outputs": [
        {
          "output_type": "stream",
          "name": "stdout",
          "text": [
            "1\n"
          ]
        }
      ]
    },
    {
      "cell_type": "code",
      "source": [
        "print(list1[0])\n",
        "print(list1[1])"
      ],
      "metadata": {
        "id": "s6-q2AqINbQV",
        "outputId": "2386bc9e-d37f-4dcf-cba3-d1ef5effb36e",
        "colab": {
          "base_uri": "https://localhost:8080/"
        }
      },
      "execution_count": null,
      "outputs": [
        {
          "output_type": "stream",
          "name": "stdout",
          "text": [
            "1\n",
            "2\n"
          ]
        }
      ]
    },
    {
      "cell_type": "code",
      "source": [
        "list5=[[\"tom\",\"1234\"]],[\"mary\",\"abcd\"],[\"david\",\"5678\"]"
      ],
      "metadata": {
        "id": "a2Rk4fXnQVGI"
      },
      "execution_count": null,
      "outputs": []
    },
    {
      "cell_type": "code",
      "source": [
        "print(list5[1])"
      ],
      "metadata": {
        "id": "yb8LM1H0QmzX",
        "outputId": "42d43f28-fdac-487c-814a-3bb8e0a4d287",
        "colab": {
          "base_uri": "https://localhost:8080/"
        }
      },
      "execution_count": null,
      "outputs": [
        {
          "output_type": "stream",
          "name": "stdout",
          "text": [
            "['mary', 'abcd']\n"
          ]
        }
      ]
    },
    {
      "cell_type": "code",
      "source": [
        "print(list5[0])"
      ],
      "metadata": {
        "id": "f9Jsdp81QtEl",
        "outputId": "1927f77b-1aa0-4a1f-e451-bbe492b59dee",
        "colab": {
          "base_uri": "https://localhost:8080/"
        }
      },
      "execution_count": null,
      "outputs": [
        {
          "output_type": "stream",
          "name": "stdout",
          "text": [
            "[['tom', '1234']]\n"
          ]
        }
      ]
    },
    {
      "cell_type": "code",
      "source": [
        "print(list5[1][1])"
      ],
      "metadata": {
        "id": "eElLsh_YQwit",
        "outputId": "72328061-bf86-45c3-a8a9-5f5f24b8c554",
        "colab": {
          "base_uri": "https://localhost:8080/"
        }
      },
      "execution_count": null,
      "outputs": [
        {
          "output_type": "stream",
          "name": "stdout",
          "text": [
            "abcd\n"
          ]
        }
      ]
    },
    {
      "cell_type": "code",
      "source": [
        "print(list5[0])"
      ],
      "metadata": {
        "id": "IVLt4GFpQ4uA",
        "outputId": "439d48d9-7bb8-4a49-8d32-a3b455e20eb0",
        "colab": {
          "base_uri": "https://localhost:8080/"
        }
      },
      "execution_count": null,
      "outputs": [
        {
          "output_type": "stream",
          "name": "stdout",
          "text": [
            "[['tom', '1234']]\n"
          ]
        }
      ]
    },
    {
      "cell_type": "code",
      "source": [
        "print(list5[0][0])"
      ],
      "metadata": {
        "id": "FySXNK0fQ-W2",
        "outputId": "5668e276-aab7-43a0-db3d-8206217c1b79",
        "colab": {
          "base_uri": "https://localhost:8080/"
        }
      },
      "execution_count": null,
      "outputs": [
        {
          "output_type": "stream",
          "name": "stdout",
          "text": [
            "['tom', '1234']\n"
          ]
        }
      ]
    },
    {
      "cell_type": "code",
      "source": [
        "print(list5[0][0])"
      ],
      "metadata": {
        "id": "YKhGGqMmRCKl",
        "outputId": "f7d64554-8fe2-4c96-e1cb-db0a1a3be94f",
        "colab": {
          "base_uri": "https://localhost:8080/"
        }
      },
      "execution_count": null,
      "outputs": [
        {
          "output_type": "stream",
          "name": "stdout",
          "text": [
            "['tom', '1234']\n"
          ]
        }
      ]
    },
    {
      "cell_type": "code",
      "source": [
        "print(list5[1][0])"
      ],
      "metadata": {
        "id": "i-vHMl6BRHo7",
        "outputId": "6a9faf2f-c19b-4260-cc2b-f2573a38e85d",
        "colab": {
          "base_uri": "https://localhost:8080/"
        }
      },
      "execution_count": null,
      "outputs": [
        {
          "output_type": "stream",
          "name": "stdout",
          "text": [
            "mary\n"
          ]
        }
      ]
    },
    {
      "cell_type": "code",
      "source": [
        "scores=[85,79,93]\n",
        "print(\"國文成績:%d分\" % scores[0])\n",
        "print(\"數學成績:%d分\" % scores[1])\n",
        "print(\"英文成績:%d分\" % scores[2])"
      ],
      "metadata": {
        "id": "IwHthi1NSjJ2",
        "outputId": "fcab6a72-77c4-4f2d-f7d3-7e4f1d82880d",
        "colab": {
          "base_uri": "https://localhost:8080/"
        }
      },
      "execution_count": null,
      "outputs": [
        {
          "output_type": "stream",
          "name": "stdout",
          "text": [
            "國文成績:85分\n",
            "數學成績:79分\n",
            "英文成績:93分\n"
          ]
        }
      ]
    },
    {
      "cell_type": "code",
      "source": [
        "list6=[1,2,3,4,5]"
      ],
      "metadata": {
        "id": "AAlvDs5uTh-D"
      },
      "execution_count": null,
      "outputs": []
    },
    {
      "cell_type": "code",
      "source": [
        "print(list6[0])"
      ],
      "metadata": {
        "id": "qxDkOH8ATr-B",
        "outputId": "a89deee4-2f88-423d-e691-44c607e93fd9",
        "colab": {
          "base_uri": "https://localhost:8080/"
        }
      },
      "execution_count": null,
      "outputs": [
        {
          "output_type": "stream",
          "name": "stdout",
          "text": [
            "1\n"
          ]
        }
      ]
    },
    {
      "cell_type": "code",
      "source": [
        "list6[0]=9"
      ],
      "metadata": {
        "id": "brE_Rr6YTxKk"
      },
      "execution_count": null,
      "outputs": []
    },
    {
      "cell_type": "code",
      "source": [
        "print(list6[0])"
      ],
      "metadata": {
        "id": "dLe8rG0pT0-t",
        "outputId": "9b81d41c-f71b-4688-ee36-c14878b8fcde",
        "colab": {
          "base_uri": "https://localhost:8080/"
        }
      },
      "execution_count": null,
      "outputs": [
        {
          "output_type": "stream",
          "name": "stdout",
          "text": [
            "9\n"
          ]
        }
      ]
    },
    {
      "cell_type": "code",
      "source": [
        "print(list6)"
      ],
      "metadata": {
        "id": "ZCXyGAPnT82Q",
        "outputId": "0bf6d1ee-4b79-4f86-e23b-3cb33e841bee",
        "colab": {
          "base_uri": "https://localhost:8080/"
        }
      },
      "execution_count": null,
      "outputs": [
        {
          "output_type": "stream",
          "name": "stdout",
          "text": [
            "[9, 2, 3, 4, 5]\n"
          ]
        }
      ]
    },
    {
      "cell_type": "code",
      "source": [
        "list7=['香蕉',\"蘋果\",\"橘子\"]"
      ],
      "metadata": {
        "id": "pilV8sPbUaCQ"
      },
      "execution_count": null,
      "outputs": []
    },
    {
      "cell_type": "code",
      "source": [
        "for s in list7:\n",
        "  print(s,end=\",\")"
      ],
      "metadata": {
        "id": "w8Q2zEQFUlto",
        "outputId": "3c1b0af5-a190-452c-80e0-2a28284405a0",
        "colab": {
          "base_uri": "https://localhost:8080/"
        }
      },
      "execution_count": null,
      "outputs": [
        {
          "output_type": "stream",
          "name": "stdout",
          "text": [
            "香蕉,蘋果,橘子,"
          ]
        }
      ]
    },
    {
      "cell_type": "code",
      "source": [
        "items=[123,\"apple\",True]\n",
        "for item in items:\n",
        "  print(item)"
      ],
      "metadata": {
        "id": "oRl19bb9XHyP",
        "outputId": "d4727047-67f6-45c9-bb16-6806ee3df0c3",
        "colab": {
          "base_uri": "https://localhost:8080/"
        }
      },
      "execution_count": null,
      "outputs": [
        {
          "output_type": "stream",
          "name": "stdout",
          "text": [
            "123\n",
            "apple\n",
            "True\n"
          ]
        }
      ]
    },
    {
      "cell_type": "code",
      "source": [
        "scores=[85,79,93]"
      ],
      "metadata": {
        "id": "cNJTVjMpXVRW"
      },
      "execution_count": null,
      "outputs": []
    },
    {
      "cell_type": "code",
      "source": [
        "print(len(scores))"
      ],
      "metadata": {
        "id": "j8jYB3D2Xj5L",
        "outputId": "ec4ca086-9e34-4156-b354-91664e7c3500",
        "colab": {
          "base_uri": "https://localhost:8080/"
        }
      },
      "execution_count": null,
      "outputs": [
        {
          "output_type": "stream",
          "name": "stdout",
          "text": [
            "3\n"
          ]
        }
      ]
    },
    {
      "cell_type": "code",
      "source": [
        "scores=[85,79,93]\n",
        "for i in range(len(scores)):\n",
        "   print(scores[i])"
      ],
      "metadata": {
        "id": "IGOJYX0KXucu",
        "outputId": "54c6fec2-9f32-4c60-8c55-ada3f0edd343",
        "colab": {
          "base_uri": "https://localhost:8080/"
        }
      },
      "execution_count": null,
      "outputs": [
        {
          "output_type": "stream",
          "name": "stdout",
          "text": [
            "85\n",
            "79\n",
            "93\n"
          ]
        }
      ]
    }
  ]
}